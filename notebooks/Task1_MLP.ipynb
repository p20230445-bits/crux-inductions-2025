{
  "nbformat": 4,
  "nbformat_minor": 0,
  "metadata": {
    "colab": {
      "provenance": [],
      "authorship_tag": "ABX9TyMXIi6IPieWxZx8ghztgwt6",
      "include_colab_link": true
    },
    "kernelspec": {
      "name": "python3",
      "display_name": "Python 3"
    },
    "language_info": {
      "name": "python"
    }
  },
  "cells": [
    {
      "cell_type": "markdown",
      "metadata": {
        "id": "view-in-github",
        "colab_type": "text"
      },
      "source": [
        "<a href=\"https://colab.research.google.com/github/p20230445-bits/crux-inductions-2025/blob/main/notebooks/Task1_MLP.ipynb\" target=\"_parent\"><img src=\"https://colab.research.google.com/assets/colab-badge.svg\" alt=\"Open In Colab\"/></a>"
      ]
    },
    {
      "cell_type": "code",
      "source": [
        "!mkdir -p kan mamba_sentiment scripts data"
      ],
      "metadata": {
        "id": "W13e1Rm0wuSg"
      },
      "execution_count": 20,
      "outputs": []
    },
    {
      "cell_type": "code",
      "execution_count": 21,
      "metadata": {
        "colab": {
          "base_uri": "https://localhost:8080/"
        },
        "id": "ImJ5ATlqtWCr",
        "outputId": "c8448eaf-4bb0-435f-a5f7-5e1ad5ed5efb"
      },
      "outputs": [
        {
          "output_type": "stream",
          "name": "stdout",
          "text": [
            "Overwriting kan/iris_loader.py\n"
          ]
        }
      ],
      "source": [
        "%%writefile kan/iris_loader.py"
      ]
    },
    {
      "cell_type": "markdown",
      "source": [
        "Loading and preprocessing of the Iris Dataset"
      ],
      "metadata": {
        "id": "gziDpfnFRoC3"
      }
    },
    {
      "cell_type": "code",
      "source": [
        "from sklearn.datasets import load_iris\n",
        "from sklearn.model_selection import train_test_split\n",
        "from sklearn.preprocessing import StandardScaler"
      ],
      "metadata": {
        "id": "lgntGoeDwfnT"
      },
      "execution_count": 22,
      "outputs": []
    },
    {
      "cell_type": "code",
      "source": [
        "#load dataset\n",
        "iris = load_iris()\n",
        "X=iris.data\n",
        "y=iris.target"
      ],
      "metadata": {
        "id": "UbWU_QGFxHpJ"
      },
      "execution_count": 23,
      "outputs": []
    },
    {
      "cell_type": "code",
      "source": [
        "#split into training(80%) and testing (20%)\n",
        "X_train, X_test, y_train, y_test = train_test_split(X, y, test_size=0.2, random_state=42)"
      ],
      "metadata": {
        "id": "sJzXyLWfyR7P"
      },
      "execution_count": 24,
      "outputs": []
    },
    {
      "cell_type": "code",
      "source": [
        "#standardize features\n",
        "scaler = StandardScaler()\n",
        "X_train = scaler.fit_transform(X_train)\n",
        "X_test = scaler.transform(X_test)"
      ],
      "metadata": {
        "id": "pxKBcy3xxOn8"
      },
      "execution_count": 25,
      "outputs": []
    },
    {
      "cell_type": "markdown",
      "source": [
        "Implementing MLP from scratch using NumPy"
      ],
      "metadata": {
        "id": "95JzDutfSMef"
      }
    },
    {
      "cell_type": "code",
      "source": [
        "import numpy as np"
      ],
      "metadata": {
        "id": "dY8FC4Euv0Th"
      },
      "execution_count": 26,
      "outputs": []
    },
    {
      "cell_type": "code",
      "source": [
        "class MLP:\n",
        "    def __init__(self, input_dim, hidden_dim, output_dim, lr=0.01):\n",
        "        # Initialize weights (random small numbers) and biases (zeros)\n",
        "        self.W1 = np.random.randn(input_dim, hidden_dim) * 0.01\n",
        "        self.b1 = np.zeros((1, hidden_dim))\n",
        "        self.W2 = np.random.randn(hidden_dim, output_dim) * 0.01\n",
        "        self.b2 = np.zeros((1, output_dim))\n",
        "        self.lr = lr  # learning rate\n",
        "    # Hidden layer activation\n",
        "    def relu(self, z):\n",
        "        return np.maximum(0, z)\n",
        "    # Softmax activation for output\n",
        "    def softmax(self, z):\n",
        "        exp_z = np.exp(z - np.max(z, axis=1, keepdims=True))\n",
        "        return exp_z / np.sum(exp_z, axis=1, keepdims=True)\n",
        "\n",
        "    # Forward pass\n",
        "    def forward(self, X):\n",
        "        self.z1 = np.dot(X, self.W1) + self.b1\n",
        "        self.a1 = self.relu(self.z1)\n",
        "        self.z2 = np.dot(self.a1, self.W2) + self.b2\n",
        "        self.a2 = self.softmax(self.z2)\n",
        "        return self.a2\n",
        "    def compute_loss(self, y_true, y_pred):\n",
        "        m = y_true.shape[0]  # number of samples\n",
        "        # avoid log(0)\n",
        "        log_likelihood = -np.log(y_pred[range(m), y_true])\n",
        "        loss = np.sum(log_likelihood) / m\n",
        "        return loss\n",
        "    #backward pass\n",
        "    def backward(self, X, y):\n",
        "        m = X.shape[0]  # batch size\n",
        "\n",
        "        # One-hot encode labels\n",
        "        y_onehot = np.zeros_like(self.a2)\n",
        "        y_onehot[np.arange(m), y] = 1\n",
        "\n",
        "        # Gradient for output layer\n",
        "        dz2 = self.a2 - y_onehot             # (batch_size, output_dim)\n",
        "        dW2 = np.dot(self.a1.T, dz2) / m     # (hidden_dim, output_dim)\n",
        "        db2 = np.sum(dz2, axis=0, keepdims=True) / m\n",
        "\n",
        "\n",
        "        # Gradient for hidden layer\n",
        "        da1 = np.dot(dz2, self.W2.T)         # (batch_size, hidden_dim)\n",
        "        dz1 = da1 * (self.z1 > 0)            # derivative of ReLU\n",
        "        dW1 = np.dot(X.T, dz1) / m           # (input_dim, hidden_dim)\n",
        "        db1 = np.sum(dz1, axis=0, keepdims=True) / m\n",
        "\n",
        "        # Update weights\n",
        "        self.W1 -= self.lr * dW1\n",
        "        self.b1 -= self.lr * db1\n",
        "        self.W2 -= self.lr * dW2\n",
        "        self.b2 -= self.lr * db2\n",
        "\n",
        "    #training loop\n",
        "    def train(self, X, y, epochs=1000):\n",
        "        for epoch in range(epochs):\n",
        "            # Forward\n",
        "            y_pred = self.forward(X)\n",
        "\n",
        "            # Compute loss\n",
        "            loss = self.compute_loss(y, y_pred)\n",
        "\n",
        "            # Backward\n",
        "            self.backward(X, y)\n",
        "\n",
        "            if epoch % 100 == 0:\n",
        "                print(f\"Epoch {epoch}, Loss: {loss:.4f}\")\n",
        "\n",
        "    #testing predictions\n",
        "    def predict(self, X):\n",
        "        y_pred = self.forward(X)\n",
        "        return np.argmax(y_pred, axis=1)"
      ],
      "metadata": {
        "id": "8Mk5BjMTybz8"
      },
      "execution_count": 27,
      "outputs": []
    },
    {
      "cell_type": "code",
      "source": [
        "# --- Train and Test ---\n",
        "mlp = MLP(input_dim=4, hidden_dim=10, output_dim=3, lr=0.1)\n",
        "mlp.train(X_train, y_train, epochs=1000)\n",
        "\n",
        "y_pred = mlp.predict(X_test)\n",
        "accuracy = np.mean(y_pred == y_test)\n",
        "print(\"Test Accuracy:\", accuracy)"
      ],
      "metadata": {
        "colab": {
          "base_uri": "https://localhost:8080/"
        },
        "id": "kSTCuHxdY24n",
        "outputId": "aa33763f-c08c-4491-a629-92ac7241aaaf"
      },
      "execution_count": 28,
      "outputs": [
        {
          "output_type": "stream",
          "name": "stdout",
          "text": [
            "Epoch 0, Loss: 1.0985\n",
            "Epoch 100, Loss: 0.4990\n",
            "Epoch 200, Loss: 0.2756\n",
            "Epoch 300, Loss: 0.1798\n",
            "Epoch 400, Loss: 0.1268\n",
            "Epoch 500, Loss: 0.0996\n",
            "Epoch 600, Loss: 0.0847\n",
            "Epoch 700, Loss: 0.0755\n",
            "Epoch 800, Loss: 0.0694\n",
            "Epoch 900, Loss: 0.0650\n",
            "Test Accuracy: 1.0\n"
          ]
        }
      ]
    },
    {
      "cell_type": "code",
      "source": [
        "from sklearn.model_selection import KFold\n",
        "from sklearn.preprocessing import StandardScaler\n",
        "import numpy as np\n",
        "\n",
        "# Load the iris dataset again\n",
        "from sklearn.datasets import load_iris\n",
        "iris = load_iris()\n",
        "X = iris.data\n",
        "y = iris.target\n",
        "\n",
        "kf = KFold(n_splits=5, shuffle=True, random_state=42)\n",
        "\n",
        "scores = []\n",
        "\n",
        "for fold, (train_idx, test_idx) in enumerate(kf.split(X), 1):\n",
        "    # Split into train/test\n",
        "    X_train, X_test = X[train_idx], X[test_idx]\n",
        "    y_train, y_test = y[train_idx], y[test_idx]\n",
        "\n",
        "    # Scale\n",
        "    scaler = StandardScaler()\n",
        "    X_train = scaler.fit_transform(X_train)\n",
        "    X_test = scaler.transform(X_test)\n",
        "\n",
        "    # Train a fresh MLP\n",
        "    mlp = MLP(input_dim=4, hidden_dim=10, output_dim=3, lr=0.1)\n",
        "    mlp.train(X_train, y_train, epochs=1000)\n",
        "\n",
        "    # Evaluate\n",
        "    y_pred = mlp.predict(X_test)\n",
        "    acc = np.mean(y_pred == y_test)\n",
        "    scores.append(acc)\n",
        "    print(f\"Fold {fold}: Accuracy = {acc:.4f}\")\n",
        "\n",
        "print(\"\\nCross-validation accuracies:\", scores)\n",
        "print(\"Mean accuracy:\", np.mean(scores))\n"
      ],
      "metadata": {
        "id": "L9ReyH8mo5_r",
        "outputId": "172be1b2-c80c-44e8-b6c8-5c3a279779ff",
        "colab": {
          "base_uri": "https://localhost:8080/"
        }
      },
      "execution_count": 29,
      "outputs": [
        {
          "output_type": "stream",
          "name": "stdout",
          "text": [
            "Epoch 0, Loss: 1.0985\n",
            "Epoch 100, Loss: 0.4911\n",
            "Epoch 200, Loss: 0.2690\n",
            "Epoch 300, Loss: 0.1718\n",
            "Epoch 400, Loss: 0.1204\n",
            "Epoch 500, Loss: 0.0950\n",
            "Epoch 600, Loss: 0.0812\n",
            "Epoch 700, Loss: 0.0728\n",
            "Epoch 800, Loss: 0.0672\n",
            "Epoch 900, Loss: 0.0633\n",
            "Fold 1: Accuracy = 1.0000\n",
            "Epoch 0, Loss: 1.0989\n",
            "Epoch 100, Loss: 0.6325\n",
            "Epoch 200, Loss: 0.3073\n",
            "Epoch 300, Loss: 0.1850\n",
            "Epoch 400, Loss: 0.1267\n",
            "Epoch 500, Loss: 0.0983\n",
            "Epoch 600, Loss: 0.0824\n",
            "Epoch 700, Loss: 0.0722\n",
            "Epoch 800, Loss: 0.0652\n",
            "Epoch 900, Loss: 0.0600\n",
            "Fold 2: Accuracy = 0.9667\n",
            "Epoch 0, Loss: 1.0988\n",
            "Epoch 100, Loss: 0.5923\n",
            "Epoch 200, Loss: 0.2940\n",
            "Epoch 300, Loss: 0.1775\n",
            "Epoch 400, Loss: 0.1171\n",
            "Epoch 500, Loss: 0.0879\n",
            "Epoch 600, Loss: 0.0722\n",
            "Epoch 700, Loss: 0.0626\n",
            "Epoch 800, Loss: 0.0562\n",
            "Epoch 900, Loss: 0.0519\n",
            "Fold 3: Accuracy = 0.9333\n",
            "Epoch 0, Loss: 1.0985\n",
            "Epoch 100, Loss: 0.4986\n",
            "Epoch 200, Loss: 0.2639\n",
            "Epoch 300, Loss: 0.1718\n",
            "Epoch 400, Loss: 0.1189\n",
            "Epoch 500, Loss: 0.0903\n",
            "Epoch 600, Loss: 0.0743\n",
            "Epoch 700, Loss: 0.0643\n",
            "Epoch 800, Loss: 0.0575\n",
            "Epoch 900, Loss: 0.0526\n",
            "Fold 4: Accuracy = 0.9667\n",
            "Epoch 0, Loss: 1.0987\n",
            "Epoch 100, Loss: 0.4876\n",
            "Epoch 200, Loss: 0.2673\n",
            "Epoch 300, Loss: 0.1830\n",
            "Epoch 400, Loss: 0.1344\n",
            "Epoch 500, Loss: 0.1069\n",
            "Epoch 600, Loss: 0.0909\n",
            "Epoch 700, Loss: 0.0809\n",
            "Epoch 800, Loss: 0.0742\n",
            "Epoch 900, Loss: 0.0695\n",
            "Fold 5: Accuracy = 1.0000\n",
            "\n",
            "Cross-validation accuracies: [np.float64(1.0), np.float64(0.9666666666666667), np.float64(0.9333333333333333), np.float64(0.9666666666666667), np.float64(1.0)]\n",
            "Mean accuracy: 0.9733333333333334\n"
          ]
        }
      ]
    },
    {
      "cell_type": "code",
      "source": [],
      "metadata": {
        "id": "toNnimxrpVFX"
      },
      "execution_count": null,
      "outputs": []
    }
  ]
}