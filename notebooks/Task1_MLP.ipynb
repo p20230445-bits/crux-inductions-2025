{
  "nbformat": 4,
  "nbformat_minor": 0,
  "metadata": {
    "colab": {
      "provenance": [],
      "authorship_tag": "ABX9TyPDbQPvzEifnvl7t9vzMJaV",
      "include_colab_link": true
    },
    "kernelspec": {
      "name": "python3",
      "display_name": "Python 3"
    },
    "language_info": {
      "name": "python"
    }
  },
  "cells": [
    {
      "cell_type": "markdown",
      "metadata": {
        "id": "view-in-github",
        "colab_type": "text"
      },
      "source": [
        "<a href=\"https://colab.research.google.com/github/p20230445-bits/crux-inductions-2025/blob/main/notebooks/Task1_MLP.ipynb\" target=\"_parent\"><img src=\"https://colab.research.google.com/assets/colab-badge.svg\" alt=\"Open In Colab\"/></a>"
      ]
    },
    {
      "cell_type": "code",
      "source": [
        "!mkdir -p kan mamba_sentiment scripts data"
      ],
      "metadata": {
        "id": "W13e1Rm0wuSg"
      },
      "execution_count": null,
      "outputs": []
    },
    {
      "cell_type": "code",
      "execution_count": null,
      "metadata": {
        "colab": {
          "base_uri": "https://localhost:8080/"
        },
        "id": "ImJ5ATlqtWCr",
        "outputId": "f8f03300-4936-4a34-85c5-8feb057acda9"
      },
      "outputs": [
        {
          "output_type": "stream",
          "name": "stdout",
          "text": [
            "Writing kan/iris_loader.py\n"
          ]
        }
      ],
      "source": [
        "%%writefile kan/iris_loader.py"
      ]
    },
    {
      "cell_type": "markdown",
      "source": [
        "Loading and preprocessing of the Iris Dataset"
      ],
      "metadata": {
        "id": "gziDpfnFRoC3"
      }
    },
    {
      "cell_type": "code",
      "source": [
        "from sklearn.datasets import load_iris\n",
        "from sklearn.model_selection import train_test_split\n",
        "from sklearn.preprocessing import StandardScaler"
      ],
      "metadata": {
        "id": "lgntGoeDwfnT"
      },
      "execution_count": null,
      "outputs": []
    },
    {
      "cell_type": "code",
      "source": [
        "#load dataset\n",
        "iris = load_iris()\n",
        "X=iris.data\n",
        "y=iris.target"
      ],
      "metadata": {
        "id": "UbWU_QGFxHpJ"
      },
      "execution_count": null,
      "outputs": []
    },
    {
      "cell_type": "code",
      "source": [
        "#standardize features\n",
        "scaler = StandardScaler()\n",
        "X = scaler.fit_transform(X)"
      ],
      "metadata": {
        "id": "pxKBcy3xxOn8"
      },
      "execution_count": null,
      "outputs": []
    },
    {
      "cell_type": "code",
      "source": [
        "#split into training(80%) and testing (20%)\n",
        "X_train, X_test, y_train, y_test = train_test_split(X, y, test_size=0.2, random_state=42)"
      ],
      "metadata": {
        "id": "sJzXyLWfyR7P"
      },
      "execution_count": null,
      "outputs": []
    },
    {
      "cell_type": "markdown",
      "source": [
        "Implementing MLP from scratch using NumPy"
      ],
      "metadata": {
        "id": "95JzDutfSMef"
      }
    },
    {
      "cell_type": "code",
      "source": [
        "import numpy as np"
      ],
      "metadata": {
        "id": "dY8FC4Euv0Th"
      },
      "execution_count": null,
      "outputs": []
    },
    {
      "cell_type": "code",
      "source": [
        "class MLP:\n",
        "    def __init__(self, input_dim, hidden_dim, output_dim, lr=0.01):\n",
        "        # Initialize weights (random small numbers) and biases (zeros)\n",
        "        self.W1 = np.random.randn(input_dim, hidden_dim) * 0.01\n",
        "        self.b1 = np.zeros((1, hidden_dim))\n",
        "        self.W2 = np.random.randn(hidden_dim, output_dim) * 0.01\n",
        "        self.b2 = np.zeros((1, output_dim))\n",
        "        self.lr = lr  # learning rate\n",
        "    # Hidden layer activation\n",
        "    def relu(self, z):\n",
        "        return np.maximum(0, z)\n",
        "    # Softmax activation for output\n",
        "    def softmax(self, z):\n",
        "        exp_z = np.exp(z - np.max(z, axis=1, keepdims=True))\n",
        "        return exp_z / np.sum(exp_z, axis=1, keepdims=True)\n",
        "\n",
        "    # Forward pass\n",
        "    def forward(self, X):\n",
        "        self.z1 = np.dot(X, self.W1) + self.b1\n",
        "        self.a1 = self.relu(self.z1)\n",
        "        self.z2 = np.dot(self.a1, self.W2) + self.b2\n",
        "        self.a2 = self.softmax(self.z2)\n",
        "        return self.a2\n",
        "    def compute_loss(self, y_true, y_pred):\n",
        "        m = y_true.shape[0]  # number of samples\n",
        "        # avoid log(0)\n",
        "        log_likelihood = -np.log(y_pred[range(m), y_true])\n",
        "        loss = np.sum(log_likelihood) / m\n",
        "        return loss\n",
        "    #backward pass\n",
        "    def backward(self, X, y):\n",
        "        m = X.shape[0]  # batch size\n",
        "\n",
        "        # One-hot encode labels\n",
        "        y_onehot = np.zeros_like(self.a2)\n",
        "        y_onehot[np.arange(m), y] = 1\n",
        "\n",
        "        # Gradient for output layer\n",
        "        dz2 = self.a2 - y_onehot             # (batch_size, output_dim)\n",
        "        dW2 = np.dot(self.a1.T, dz2) / m     # (hidden_dim, output_dim)\n",
        "        db2 = np.sum(dz2, axis=0, keepdims=True) / m\n",
        "\n",
        "\n",
        "        # Gradient for hidden layer\n",
        "        da1 = np.dot(dz2, self.W2.T)         # (batch_size, hidden_dim)\n",
        "        dz1 = da1 * (self.z1 > 0)            # derivative of ReLU\n",
        "        dW1 = np.dot(X.T, dz1) / m           # (input_dim, hidden_dim)\n",
        "        db1 = np.sum(dz1, axis=0, keepdims=True) / m\n",
        "\n",
        "        # Update weights\n",
        "        self.W1 -= self.lr * dW1\n",
        "        self.b1 -= self.lr * db1\n",
        "        self.W2 -= self.lr * dW2\n",
        "        self.b2 -= self.lr * db2\n",
        "\n",
        "    #training loop\n",
        "    def train(self, X, y, epochs=1000):\n",
        "        for epoch in range(epochs):\n",
        "            # Forward\n",
        "            y_pred = self.forward(X)\n",
        "\n",
        "            # Compute loss\n",
        "            loss = self.compute_loss(y, y_pred)\n",
        "\n",
        "            # Backward\n",
        "            self.backward(X, y)\n",
        "\n",
        "            if epoch % 100 == 0:\n",
        "                print(f\"Epoch {epoch}, Loss: {loss:.4f}\")\n",
        "\n",
        "    #testing predictions\n",
        "    def predict(self, X):\n",
        "        y_pred = self.forward(X)\n",
        "        return np.argmax(y_pred, axis=1)"
      ],
      "metadata": {
        "id": "8Mk5BjMTybz8"
      },
      "execution_count": null,
      "outputs": []
    },
    {
      "cell_type": "code",
      "source": [
        "# --- Train and Test ---\n",
        "mlp = MLP(input_dim=4, hidden_dim=10, output_dim=3, lr=0.1)\n",
        "mlp.train(X_train, y_train, epochs=1000)\n",
        "\n",
        "y_pred = mlp.predict(X_test)\n",
        "accuracy = np.mean(y_pred == y_test)\n",
        "print(\"Test Accuracy:\", accuracy)"
      ],
      "metadata": {
        "colab": {
          "base_uri": "https://localhost:8080/"
        },
        "id": "kSTCuHxdY24n",
        "outputId": "ea6fd2f2-374f-4bcb-9131-a704efcb2cf8"
      },
      "execution_count": null,
      "outputs": [
        {
          "output_type": "stream",
          "name": "stdout",
          "text": [
            "Epoch 0, Loss: 1.0988\n",
            "Epoch 100, Loss: 0.5789\n",
            "Epoch 200, Loss: 0.2873\n",
            "Epoch 300, Loss: 0.1734\n",
            "Epoch 400, Loss: 0.1167\n",
            "Epoch 500, Loss: 0.0910\n",
            "Epoch 600, Loss: 0.0778\n",
            "Epoch 700, Loss: 0.0701\n",
            "Epoch 800, Loss: 0.0650\n",
            "Epoch 900, Loss: 0.0615\n",
            "Test Accuracy: 1.0\n"
          ]
        }
      ]
    }
  ]
}