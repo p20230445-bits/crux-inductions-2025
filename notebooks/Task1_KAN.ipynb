{
  "nbformat": 4,
  "nbformat_minor": 0,
  "metadata": {
    "colab": {
      "provenance": [],
      "authorship_tag": "ABX9TyMXG+7q17oCXUOjPN2Bl9u/",
      "include_colab_link": true
    },
    "kernelspec": {
      "name": "python3",
      "display_name": "Python 3"
    },
    "language_info": {
      "name": "python"
    }
  },
  "cells": [
    {
      "cell_type": "markdown",
      "metadata": {
        "id": "view-in-github",
        "colab_type": "text"
      },
      "source": [
        "<a href=\"https://colab.research.google.com/github/p20230445-bits/crux-inductions-2025/blob/main/notebooks/Task1_KAN.ipynb\" target=\"_parent\"><img src=\"https://colab.research.google.com/assets/colab-badge.svg\" alt=\"Open In Colab\"/></a>"
      ]
    },
    {
      "cell_type": "markdown",
      "source": [
        "KAN from scratch"
      ],
      "metadata": {
        "id": "F3JIKhxZPUEy"
      }
    },
    {
      "cell_type": "code",
      "execution_count": 103,
      "metadata": {
        "id": "UFE-UwOqtShe"
      },
      "outputs": [],
      "source": [
        "import numpy as np\n",
        "import matplotlib.pyplot as plt\n",
        "from sklearn.datasets import load_iris\n",
        "from sklearn.model_selection import train_test_split\n",
        "from sklearn.preprocessing import OneHotEncoder"
      ]
    },
    {
      "cell_type": "code",
      "source": [
        "# Spline Function (piecewise linear)\n",
        "class Spline:\n",
        "    def __init__(self, num_knots=5):\n",
        "        self.num_knots = num_knots\n",
        "        self.knots = np.linspace(0, 1, num_knots)\n",
        "        self.coeffs = np.random.randn(num_knots) * 0.1  # learnable params\n",
        "\n",
        "    def forward(self, x):\n",
        "        # Piecewise linear interpolation\n",
        "        return np.interp(x, self.knots, self.coeffs)\n",
        "\n",
        "    def plot(self):\n",
        "        xs = np.linspace(0, 1, 100)\n",
        "        ys = [self.forward(x) for x in xs]\n",
        "        plt.plot(xs, ys, label=\"Learned Spline\")\n",
        "        plt.scatter(self.knots, self.coeffs, color=\"red\")\n",
        "        plt.legend()\n",
        "        plt.show()"
      ],
      "metadata": {
        "id": "xStFbdBXtbW6"
      },
      "execution_count": 104,
      "outputs": []
    },
    {
      "cell_type": "code",
      "source": [
        "# Simple KAN Layer\n",
        "class KANLayer:\n",
        "    def __init__(self, input_dim, output_dim, num_knots=5):\n",
        "        self.splines = [[Spline(num_knots) for _ in range(input_dim)]\n",
        "                        for _ in range(output_dim)]\n",
        "        self.bias = np.zeros((1, output_dim))\n",
        "\n",
        "    def forward(self, X):\n",
        "        out = []\n",
        "        for j in range(len(self.splines)):  # for each output neuron\n",
        "            val = sum(self.splines[j][i].forward(X[:, i])\n",
        "                      for i in range(len(self.splines[j])))\n",
        "            out.append(val + self.bias[0, j])\n",
        "        return np.vstack(out).T  # shape (batch, output_dim)"
      ],
      "metadata": {
        "id": "7ttvgZc1tkUu"
      },
      "execution_count": 105,
      "outputs": []
    },
    {
      "cell_type": "code",
      "source": [
        "# KAN Model\n",
        "class SimpleKAN:\n",
        "    def __init__(self, input_dim, hidden_dim, output_dim, lr=0.01):\n",
        "        self.hidden = KANLayer(input_dim, hidden_dim)\n",
        "        self.out_W = np.random.randn(hidden_dim, output_dim) * 0.1\n",
        "        self.out_b = np.zeros((1, output_dim))\n",
        "        self.lr = lr\n",
        "\n",
        "    def forward(self, X):\n",
        "        self.z1 = self.hidden.forward(X)\n",
        "        self.a1 = np.maximum(0, self.z1)  # ReLU\n",
        "        logits = np.dot(self.a1, self.out_W) + self.out_b\n",
        "        exp_scores = np.exp(logits - np.max(logits, axis=1, keepdims=True))\n",
        "        self.a2 = exp_scores / np.sum(exp_scores, axis=1, keepdims=True)\n",
        "        return self.a2\n",
        "\n",
        "    def compute_loss(self, y_onehot):\n",
        "        m = y_onehot.shape[0]\n",
        "        log_likelihood = -np.log(self.a2[range(m), np.argmax(y_onehot, axis=1)])\n",
        "        return np.sum(log_likelihood) / m\n",
        "\n",
        "    def train(self, X, y, epochs=100):\n",
        "        # One-hot encode y\n",
        "        enc = OneHotEncoder(sparse_output=False)\n",
        "        y_onehot = enc.fit_transform(y.reshape(-1, 1))\n",
        "        for epoch in range(epochs):\n",
        "            probs = self.forward(X)\n",
        "            loss = self.compute_loss(y_onehot)\n",
        "\n",
        "            # Gradients for output layer\n",
        "            dz2 = probs - y_onehot\n",
        "            dW = np.dot(self.a1.T, dz2) / X.shape[0]\n",
        "            db = np.sum(dz2, axis=0, keepdims=True) / X.shape[0]\n",
        "\n",
        "            # Update output layer weights\n",
        "            self.out_W -= self.lr * dW\n",
        "            self.out_b -= self.lr * db\n",
        "\n",
        "            if epoch % 10 == 0:\n",
        "                print(f\"Epoch {epoch}, Loss: {loss:.4f}\")\n",
        "\n",
        "    def predict(self, X):\n",
        "        probs = self.forward(X)\n",
        "        return np.argmax(probs, axis=1)\n"
      ],
      "metadata": {
        "id": "PyqxFw_fttpm"
      },
      "execution_count": 106,
      "outputs": []
    },
    {
      "cell_type": "code",
      "source": [
        "# Load Iris dataset\n",
        "iris = load_iris()\n",
        "X, y = iris.data, iris.target\n",
        "X = (X - X.min()) / (X.max() - X.min())  # normalize to [0,1]\n",
        "X_train, X_test, y_train, y_test = train_test_split(X, y, test_size=0.2, random_state=42)"
      ],
      "metadata": {
        "id": "Vx0mnVwJt09R"
      },
      "execution_count": 107,
      "outputs": []
    },
    {
      "cell_type": "code",
      "source": [
        "# Train KAN\n",
        "kan = SimpleKAN(input_dim=4, hidden_dim=10, output_dim=3, lr=0.1)\n",
        "kan.train(X_train, y_train, epochs=100)"
      ],
      "metadata": {
        "colab": {
          "base_uri": "https://localhost:8080/"
        },
        "id": "34w9hWq7t77e",
        "outputId": "95a9e666-d2ba-49d7-992b-18b5b2f13111"
      },
      "execution_count": 108,
      "outputs": [
        {
          "output_type": "stream",
          "name": "stdout",
          "text": [
            "Epoch 0, Loss: 1.1041\n",
            "Epoch 10, Loss: 1.0973\n",
            "Epoch 20, Loss: 1.0909\n",
            "Epoch 30, Loss: 1.0846\n",
            "Epoch 40, Loss: 1.0785\n",
            "Epoch 50, Loss: 1.0725\n",
            "Epoch 60, Loss: 1.0665\n",
            "Epoch 70, Loss: 1.0606\n",
            "Epoch 80, Loss: 1.0548\n",
            "Epoch 90, Loss: 1.0490\n"
          ]
        }
      ]
    },
    {
      "cell_type": "code",
      "source": [
        "# Evaluate\n",
        "preds = kan.predict(X_test)\n",
        "acc = np.mean(preds == y_test)\n",
        "print(f\"Test Accuracy: {acc:.2f}\")"
      ],
      "metadata": {
        "colab": {
          "base_uri": "https://localhost:8080/"
        },
        "id": "D5473-bYt-yL",
        "outputId": "bca17aeb-7fa9-46f8-ded8-92d18816b0da"
      },
      "execution_count": 109,
      "outputs": [
        {
          "output_type": "stream",
          "name": "stdout",
          "text": [
            "Test Accuracy: 0.67\n"
          ]
        }
      ]
    },
    {
      "cell_type": "code",
      "source": [
        "# Plot spline of first hidden neuron, first input\n",
        "kan.hidden.splines[0][0].plot()"
      ],
      "metadata": {
        "colab": {
          "base_uri": "https://localhost:8080/",
          "height": 430
        },
        "id": "1OMXPErcuDoK",
        "outputId": "2008f9fa-c09a-420d-9adf-2907073d1f06"
      },
      "execution_count": 110,
      "outputs": [
        {
          "output_type": "display_data",
          "data": {
            "text/plain": [
              "<Figure size 640x480 with 1 Axes>"
            ],
            "image/png": "[encoded data removed]"
          },
          "metadata": {}
        }
      ]
    },
    {
      "cell_type": "code",
      "source": [
        "!git clone https://github.com/p20230445-bits/crux-inductions-2025.git\n",
        "%cd crux-inductions-2025"
      ],
      "metadata": {
        "colab": {
          "base_uri": "https://localhost:8080/"
        },
        "id": "RiATqSAEvqcm",
        "outputId": "b415f384-d301-4945-e76c-c78f7a106732"
      },
      "execution_count": 111,
      "outputs": [
        {
          "output_type": "stream",
          "name": "stdout",
          "text": [
            "Cloning into 'crux-inductions-2025'...\n",
            "remote: Enumerating objects: 59, done.\u001b[K\n",
            "remote: Counting objects: 100% (59/59), done.\u001b[K\n",
            "remote: Compressing objects: 100% (38/38), done.\u001b[K\n",
            "remote: Total 59 (delta 14), reused 40 (delta 6), pack-reused 0 (from 0)\u001b[K\n",
            "Receiving objects: 100% (59/59), 8.46 MiB | 18.95 MiB/s, done.\n",
            "Resolving deltas: 100% (14/14), done.\n",
            "/content/pykan/pykan/crux-inductions-2025/pykan/crux-inductions-2025/pykan/crux-inductions-2025\n"
          ]
        }
      ]
    },
    {
      "cell_type": "markdown",
      "source": [
        "KAN using the pykan library\n"
      ],
      "metadata": {
        "id": "FA3SrgYGPfpX"
      }
    },
    {
      "cell_type": "code",
      "source": [
        "#Install & Import dependencies\n",
        "!git clone https://github.com/KindXiaoming/pykan.git\n",
        "%cd pykan\n",
        "\n",
        "import sys\n",
        "sys.path.append(\"/content/pykan\")\n",
        "\n",
        "import torch\n",
        "import torch.nn as nn\n",
        "import torch.optim as optim\n",
        "from sklearn.datasets import load_iris\n",
        "from sklearn.model_selection import train_test_split\n",
        "from sklearn.preprocessing import StandardScaler\n",
        "from torch.utils.data import DataLoader, TensorDataset"
      ],
      "metadata": {
        "colab": {
          "base_uri": "https://localhost:8080/"
        },
        "id": "wW-1pkjLU2yO",
        "outputId": "ea80d660-fbc5-4154-aec6-eb365adf0bb4"
      },
      "execution_count": 112,
      "outputs": [
        {
          "output_type": "stream",
          "name": "stdout",
          "text": [
            "Cloning into 'pykan'...\n",
            "remote: Enumerating objects: 4221, done.\u001b[K\n",
            "remote: Total 4221 (delta 0), reused 0 (delta 0), pack-reused 4221 (from 1)\u001b[K\n",
            "Receiving objects: 100% (4221/4221), 117.21 MiB | 23.56 MiB/s, done.\n",
            "Resolving deltas: 100% (1546/1546), done.\n",
            "/content/pykan/pykan/crux-inductions-2025/pykan/crux-inductions-2025/pykan/crux-inductions-2025/pykan\n"
          ]
        }
      ]
    },
    {
      "cell_type": "code",
      "source": [
        "#Load and preprocess Iris dataset\n",
        "iris = load_iris()\n",
        "X = iris.data   # features (150 x 4)\n",
        "y = iris.target # labels (150,)"
      ],
      "metadata": {
        "id": "MvU6odHnVFBw"
      },
      "execution_count": 113,
      "outputs": []
    },
    {
      "cell_type": "code",
      "source": [
        "# Standardize features\n",
        "scaler = StandardScaler()\n",
        "X = scaler.fit_transform(X)"
      ],
      "metadata": {
        "id": "3E6Y8KGFVJKT"
      },
      "execution_count": 114,
      "outputs": []
    },
    {
      "cell_type": "code",
      "source": [
        "# Train-test split\n",
        "X_train, X_test, y_train, y_test = train_test_split(\n",
        "    X, y, test_size=0.2, random_state=42, stratify=y\n",
        ")\n"
      ],
      "metadata": {
        "id": "vP9cUaQqVMeg"
      },
      "execution_count": 115,
      "outputs": []
    },
    {
      "cell_type": "code",
      "source": [
        "# Convert to PyTorch tensors\n",
        "X_train = torch.tensor(X_train, dtype=torch.float32)\n",
        "y_train = torch.tensor(y_train, dtype=torch.long)\n",
        "X_test  = torch.tensor(X_test, dtype=torch.float32)\n",
        "y_test  = torch.tensor(y_test, dtype=torch.long)\n"
      ],
      "metadata": {
        "id": "NPo7bdWuVQe6"
      },
      "execution_count": 116,
      "outputs": []
    },
    {
      "cell_type": "code",
      "source": [
        "from kan import KAN\n",
        "import torch\n",
        "import torch.nn as nn\n",
        "\n",
        "# Ensure correct data types\n",
        "X_train = X_train.float()\n",
        "X_test = X_test.float()\n",
        "y_train = y_train.long()\n",
        "y_test = y_test.long()\n",
        "\n",
        "dataset = {\n",
        "    'train_input': X_train,\n",
        "    'train_label': y_train,\n",
        "    'test_input': X_test,\n",
        "    'test_label': y_test\n",
        "}\n",
        "\n",
        "# Initialize model\n",
        "model = KAN(width=[4, 10, 3], grid=5, k=3)\n",
        "\n",
        "# Train with CrossEntropyLoss\n",
        "loss_fn = nn.CrossEntropyLoss()\n",
        "model.fit(dataset, steps=1000, lr=0.01, loss_fn=loss_fn)\n",
        "\n",
        "# Evaluate\n",
        "with torch.no_grad():\n",
        "    logits = model(X_test)\n",
        "    preds = torch.argmax(logits, dim=1)\n",
        "    acc = (preds == y_test).float().mean().item()\n",
        "\n",
        "print(f\"Test Accuracy: {acc:.4f}\")\n"
      ],
      "metadata": {
        "id": "ml7GyrIUfnnI",
        "outputId": "b0a7bf3d-395a-46ff-e4ec-fd4774ae6f27",
        "colab": {
          "base_uri": "https://localhost:8080/"
        }
      },
      "execution_count": 117,
      "outputs": [
        {
          "output_type": "stream",
          "name": "stdout",
          "text": [
            "checkpoint directory created: ./model\n",
            "saving model version 0.0\n"
          ]
        },
        {
          "output_type": "stream",
          "name": "stderr",
          "text": [
            "| train_loss: 3.38e-04 | test_loss: 8.98e-01 | reg: 2.08e+02 | : 100%|█| 1000/1000 [01:49<00:00,  9.\n"
          ]
        },
        {
          "output_type": "stream",
          "name": "stdout",
          "text": [
            "saving model version 0.1\n",
            "Test Accuracy: 0.9333\n"
          ]
        }
      ]
    },
    {
      "cell_type": "code",
      "source": [
        "#Grid Search for KAN\n",
        "import itertools\n",
        "from sklearn.metrics import accuracy_score\n",
        "\n",
        "# Define the parameter grid\n",
        "param_grid = {\n",
        "    \"grid\": [3, 5, 7],       # spline grid resolution\n",
        "    \"k\": [3, 5],             # spline order\n",
        "    \"hidden_units\": [8, 10]  # number of hidden layer neurons\n",
        "}\n",
        "\n",
        "best_acc = 0\n",
        "best_params = None\n",
        "results = []\n",
        "\n",
        "for g, k_val, hu in itertools.product(param_grid[\"grid\"],\n",
        "                                       param_grid[\"k\"],\n",
        "                                       param_grid[\"hidden_units\"]):\n",
        "    # Initialize KAN with current hyperparameters\n",
        "    model = KAN(width=[4, hu, 3], grid=g, k=k_val)\n",
        "\n",
        "    # Train\n",
        "    loss_fn = nn.CrossEntropyLoss()\n",
        "    model.fit(dataset, steps=500, lr=0.01, loss_fn=loss_fn)\n",
        "\n",
        "    # Evaluate\n",
        "    with torch.no_grad():\n",
        "        preds = torch.argmax(model(dataset['test_input']), dim=1)\n",
        "        acc = accuracy_score(dataset['test_label'], preds)\n",
        "\n",
        "    results.append(((g, k_val, hu), acc))\n",
        "\n",
        "    if acc > best_acc:\n",
        "        best_acc = acc\n",
        "        best_params = (g, k_val, hu)\n",
        "\n",
        "print(\"Best Parameters:\", best_params)\n",
        "print(f\"Best Accuracy: {best_acc:.4f}\")\n"
      ],
      "metadata": {
        "id": "rAguE8YOfyw3",
        "outputId": "2e51bbf9-036d-4419-ce54-f655140fa5be",
        "colab": {
          "base_uri": "https://localhost:8080/"
        }
      },
      "execution_count": 118,
      "outputs": [
        {
          "output_type": "stream",
          "name": "stdout",
          "text": [
            "checkpoint directory created: ./model\n",
            "saving model version 0.0\n"
          ]
        },
        {
          "output_type": "stream",
          "name": "stderr",
          "text": [
            "| train_loss: 3.55e-04 | test_loss: 1.20e+00 | reg: 1.42e+02 | : 100%|█| 500/500 [00:55<00:00,  9.07\n"
          ]
        },
        {
          "output_type": "stream",
          "name": "stdout",
          "text": [
            "saving model version 0.1\n",
            "checkpoint directory created: ./model\n",
            "saving model version 0.0\n"
          ]
        },
        {
          "output_type": "stream",
          "name": "stderr",
          "text": [
            "| train_loss: 3.57e-04 | test_loss: 1.58e+00 | reg: 2.60e+02 | : 100%|█| 500/500 [00:51<00:00,  9.73\n"
          ]
        },
        {
          "output_type": "stream",
          "name": "stdout",
          "text": [
            "saving model version 0.1\n",
            "checkpoint directory created: ./model\n",
            "saving model version 0.0\n"
          ]
        },
        {
          "output_type": "stream",
          "name": "stderr",
          "text": [
            "| train_loss: 5.22e-04 | test_loss: 9.23e-01 | reg: 2.59e+02 | : 100%|█| 500/500 [00:56<00:00,  8.92\n"
          ]
        },
        {
          "output_type": "stream",
          "name": "stdout",
          "text": [
            "saving model version 0.1\n",
            "checkpoint directory created: ./model\n",
            "saving model version 0.0\n"
          ]
        },
        {
          "output_type": "stream",
          "name": "stderr",
          "text": [
            "| train_loss: 5.48e-04 | test_loss: 9.40e-01 | reg: 1.98e+02 | : 100%|█| 500/500 [01:10<00:00,  7.14\n"
          ]
        },
        {
          "output_type": "stream",
          "name": "stdout",
          "text": [
            "saving model version 0.1\n",
            "checkpoint directory created: ./model\n",
            "saving model version 0.0\n"
          ]
        },
        {
          "output_type": "stream",
          "name": "stderr",
          "text": [
            "| train_loss: 3.17e-04 | test_loss: 7.83e-01 | reg: 1.36e+02 | : 100%|█| 500/500 [00:52<00:00,  9.46\n"
          ]
        },
        {
          "output_type": "stream",
          "name": "stdout",
          "text": [
            "saving model version 0.1\n",
            "checkpoint directory created: ./model\n",
            "saving model version 0.0\n"
          ]
        },
        {
          "output_type": "stream",
          "name": "stderr",
          "text": [
            "| train_loss: 2.25e-04 | test_loss: 8.10e-01 | reg: 1.58e+02 | : 100%|█| 500/500 [00:54<00:00,  9.20\n"
          ]
        },
        {
          "output_type": "stream",
          "name": "stdout",
          "text": [
            "saving model version 0.1\n",
            "checkpoint directory created: ./model\n",
            "saving model version 0.0\n"
          ]
        },
        {
          "output_type": "stream",
          "name": "stderr",
          "text": [
            "| train_loss: 3.34e-04 | test_loss: 8.36e-01 | reg: 2.42e+02 | : 100%|█| 500/500 [01:09<00:00,  7.14\n"
          ]
        },
        {
          "output_type": "stream",
          "name": "stdout",
          "text": [
            "saving model version 0.1\n",
            "checkpoint directory created: ./model\n",
            "saving model version 0.0\n"
          ]
        },
        {
          "output_type": "stream",
          "name": "stderr",
          "text": [
            "| train_loss: 5.41e-04 | test_loss: 1.08e+00 | reg: 2.51e+02 | : 100%|█| 500/500 [01:05<00:00,  7.66\n"
          ]
        },
        {
          "output_type": "stream",
          "name": "stdout",
          "text": [
            "saving model version 0.1\n",
            "checkpoint directory created: ./model\n",
            "saving model version 0.0\n"
          ]
        },
        {
          "output_type": "stream",
          "name": "stderr",
          "text": [
            "| train_loss: 3.35e-04 | test_loss: 8.46e-01 | reg: 8.44e+01 | : 100%|█| 500/500 [00:49<00:00, 10.15\n"
          ]
        },
        {
          "output_type": "stream",
          "name": "stdout",
          "text": [
            "saving model version 0.1\n",
            "checkpoint directory created: ./model\n",
            "saving model version 0.0\n"
          ]
        },
        {
          "output_type": "stream",
          "name": "stderr",
          "text": [
            "| train_loss: 3.07e-04 | test_loss: 8.46e-01 | reg: 8.03e+01 | : 100%|█| 500/500 [00:51<00:00,  9.69\n"
          ]
        },
        {
          "output_type": "stream",
          "name": "stdout",
          "text": [
            "saving model version 0.1\n",
            "checkpoint directory created: ./model\n",
            "saving model version 0.0\n"
          ]
        },
        {
          "output_type": "stream",
          "name": "stderr",
          "text": [
            "| train_loss: 3.15e-04 | test_loss: 8.85e-01 | reg: 9.25e+01 | : 100%|█| 500/500 [01:07<00:00,  7.38\n"
          ]
        },
        {
          "output_type": "stream",
          "name": "stdout",
          "text": [
            "saving model version 0.1\n",
            "checkpoint directory created: ./model\n",
            "saving model version 0.0\n"
          ]
        },
        {
          "output_type": "stream",
          "name": "stderr",
          "text": [
            "| train_loss: 3.94e-04 | test_loss: 3.67e+00 | reg: 6.72e+02 | : 100%|█| 500/500 [01:10<00:00,  7.12"
          ]
        },
        {
          "output_type": "stream",
          "name": "stdout",
          "text": [
            "saving model version 0.1\n",
            "Best Parameters: (3, 5, 8)\n",
            "Best Accuracy: 0.9667\n"
          ]
        },
        {
          "output_type": "stream",
          "name": "stderr",
          "text": [
            "\n"
          ]
        }
      ]
    },
    {
      "cell_type": "code",
      "source": [
        "for params, acc in sorted(results, key=lambda x: x[1], reverse=True):\n",
        "    print(f\"grid={params[0]}, k={params[1]}, hidden_units={params[2]} → acc={acc:.4f}\")\n"
      ],
      "metadata": {
        "id": "tbZuTIQth_Zx",
        "outputId": "6e0ef732-53a1-4861-80e2-13cb0e5da78c",
        "colab": {
          "base_uri": "https://localhost:8080/"
        }
      },
      "execution_count": 119,
      "outputs": [
        {
          "output_type": "stream",
          "name": "stdout",
          "text": [
            "grid=3, k=5, hidden_units=8 → acc=0.9667\n",
            "grid=5, k=3, hidden_units=8 → acc=0.9667\n",
            "grid=5, k=3, hidden_units=10 → acc=0.9667\n",
            "grid=7, k=3, hidden_units=8 → acc=0.9667\n",
            "grid=7, k=3, hidden_units=10 → acc=0.9667\n",
            "grid=3, k=3, hidden_units=8 → acc=0.9333\n",
            "grid=3, k=3, hidden_units=10 → acc=0.9333\n",
            "grid=3, k=5, hidden_units=10 → acc=0.9333\n",
            "grid=5, k=5, hidden_units=10 → acc=0.9333\n",
            "grid=7, k=5, hidden_units=8 → acc=0.9333\n",
            "grid=5, k=5, hidden_units=8 → acc=0.9000\n",
            "grid=7, k=5, hidden_units=10 → acc=0.9000\n"
          ]
        }
      ]
    },
    {
      "cell_type": "code",
      "source": [
        "#KAN 5-Fold Cross-Validation\n",
        "from sklearn.model_selection import KFold\n",
        "from sklearn.preprocessing import StandardScaler\n",
        "from sklearn.datasets import load_iris\n",
        "import torch\n",
        "import torch.nn as nn\n",
        "from kan import KAN\n",
        "import numpy as np\n",
        "\n",
        "# Load iris dataset\n",
        "iris = load_iris()\n",
        "X = iris.data\n",
        "y = iris.target\n",
        "\n",
        "device = torch.device('cuda' if torch.cuda.is_available() else 'cpu')\n",
        "print(\"Using device:\", device)\n",
        "\n",
        "kf = KFold(n_splits=5, shuffle=True, random_state=42)\n",
        "scores = []\n",
        "\n",
        "for fold, (train_idx, test_idx) in enumerate(kf.split(X), 1):\n",
        "    # Split data\n",
        "    X_train, X_test = X[train_idx], X[test_idx]\n",
        "    y_train, y_test = y[train_idx], y[test_idx]\n",
        "\n",
        "    # Scale features\n",
        "    scaler = StandardScaler()\n",
        "    X_train = scaler.fit_transform(X_train)\n",
        "    X_test = scaler.transform(X_test)\n",
        "\n",
        "    # Convert to tensors and move to device\n",
        "    X_train_t = torch.tensor(X_train, dtype=torch.float32).to(device)\n",
        "    X_test_t = torch.tensor(X_test, dtype=torch.float32).to(device)\n",
        "    y_train_t = torch.tensor(y_train, dtype=torch.long).to(device)\n",
        "    y_test_t = torch.tensor(y_test, dtype=torch.long).to(device)\n",
        "\n",
        "    # Create dataset dict\n",
        "    dataset = {\n",
        "        'train_input': X_train_t,\n",
        "        'train_label': y_train_t,\n",
        "        'test_input': X_test_t,\n",
        "        'test_label': y_test_t\n",
        "    }\n",
        "\n",
        "    # Initialize KAN (use best hyperparameters from your grid search if available)\n",
        "    model = KAN(width=[4, 10, 3], grid=5, k=3, device=device)\n",
        "\n",
        "    # Train\n",
        "    loss_fn = nn.CrossEntropyLoss()\n",
        "    model.fit(dataset, steps=500, lr=0.01, loss_fn=loss_fn)\n",
        "\n",
        "    # Evaluate\n",
        "    with torch.no_grad():\n",
        "        preds = torch.argmax(model(X_test_t), dim=1)\n",
        "        acc = np.mean(preds.cpu().numpy() == y_test)\n",
        "\n",
        "    scores.append(acc)\n",
        "    print(f\"Fold {fold}: Accuracy = {acc:.4f}\")\n",
        "\n",
        "print(\"\\nCross-validation accuracies:\", scores)\n",
        "print(\"Mean accuracy:\", np.mean(scores))\n"
      ],
      "metadata": {
        "id": "4peTPyjyqaUp",
        "outputId": "2c9ea2d6-5a50-46b9-b75e-7fb90035cf90",
        "colab": {
          "base_uri": "https://localhost:8080/"
        }
      },
      "execution_count": 120,
      "outputs": [
        {
          "output_type": "stream",
          "name": "stdout",
          "text": [
            "Using device: cpu\n",
            "checkpoint directory created: ./model\n",
            "saving model version 0.0\n"
          ]
        },
        {
          "output_type": "stream",
          "name": "stderr",
          "text": [
            "| train_loss: 2.11e-04 | test_loss: 3.78e-02 | reg: 1.31e+02 | : 100%|█| 500/500 [00:56<00:00,  8.88\n"
          ]
        },
        {
          "output_type": "stream",
          "name": "stdout",
          "text": [
            "saving model version 0.1\n",
            "Fold 1: Accuracy = 1.0000\n",
            "checkpoint directory created: ./model\n",
            "saving model version 0.0\n"
          ]
        },
        {
          "output_type": "stream",
          "name": "stderr",
          "text": [
            "| train_loss: 3.57e-04 | test_loss: 1.41e+00 | reg: 1.30e+02 | : 100%|█| 500/500 [00:51<00:00,  9.70\n"
          ]
        },
        {
          "output_type": "stream",
          "name": "stdout",
          "text": [
            "saving model version 0.1\n",
            "Fold 2: Accuracy = 0.9333\n",
            "checkpoint directory created: ./model\n",
            "saving model version 0.0\n"
          ]
        },
        {
          "output_type": "stream",
          "name": "stderr",
          "text": [
            "| train_loss: 3.77e-04 | test_loss: 1.05e+00 | reg: 1.16e+02 | : 100%|█| 500/500 [00:54<00:00,  9.20\n"
          ]
        },
        {
          "output_type": "stream",
          "name": "stdout",
          "text": [
            "saving model version 0.1\n",
            "Fold 3: Accuracy = 0.9667\n",
            "checkpoint directory created: ./model\n",
            "saving model version 0.0\n"
          ]
        },
        {
          "output_type": "stream",
          "name": "stderr",
          "text": [
            "| train_loss: 3.37e-04 | test_loss: 1.13e+00 | reg: 1.33e+02 | : 100%|█| 500/500 [00:49<00:00, 10.13\n"
          ]
        },
        {
          "output_type": "stream",
          "name": "stdout",
          "text": [
            "saving model version 0.1\n",
            "Fold 4: Accuracy = 0.9333\n",
            "checkpoint directory created: ./model\n",
            "saving model version 0.0\n"
          ]
        },
        {
          "output_type": "stream",
          "name": "stderr",
          "text": [
            "| train_loss: 3.31e-04 | test_loss: 1.40e+00 | reg: 1.61e+02 | : 100%|█| 500/500 [00:58<00:00,  8.62"
          ]
        },
        {
          "output_type": "stream",
          "name": "stdout",
          "text": [
            "saving model version 0.1\n",
            "Fold 5: Accuracy = 0.9667\n",
            "\n",
            "Cross-validation accuracies: [np.float64(1.0), np.float64(0.9333333333333333), np.float64(0.9666666666666667), np.float64(0.9333333333333333), np.float64(0.9666666666666667)]\n",
            "Mean accuracy: 0.96\n"
          ]
        },
        {
          "output_type": "stream",
          "name": "stderr",
          "text": [
            "\n"
          ]
        }
      ]
    },
    {
      "cell_type": "markdown",
      "source": [
        "Comparison between the two models (MLP from scratch, KAN from pykan)"
      ],
      "metadata": {
        "id": "qukbG2vLlszt"
      }
    },
    {
      "cell_type": "code",
      "source": [
        "# MLP and KAN accuracy\n",
        "import pandas as pd\n",
        "\n",
        "final_acc_mlp = 0.9733\n",
        "final_acc_kan = 0.96\n",
        "\n",
        "comparison_df = pd.DataFrame({\n",
        "    \"Model\": [\"MLP (Scratch)\", \"KAN (pykan)\"],\n",
        "    \"Mean Test Accuracy\": [final_acc_mlp, final_acc_kan]\n",
        "})\n",
        "\n",
        "print(comparison_df)"
      ],
      "metadata": {
        "id": "faELBnoglMaO",
        "outputId": "bf2e1efc-f5b2-4f10-83c5-b02f22855d0f",
        "colab": {
          "base_uri": "https://localhost:8080/"
        }
      },
      "execution_count": 123,
      "outputs": [
        {
          "output_type": "stream",
          "name": "stdout",
          "text": [
            "           Model  Mean Test Accuracy\n",
            "0  MLP (Scratch)              0.9733\n",
            "1    KAN (pykan)              0.9600\n"
          ]
        }
      ]
    },
    {
      "cell_type": "markdown",
      "source": [
        "Bar Plot for Visualization"
      ],
      "metadata": {
        "id": "nXcv9flHqRAL"
      }
    },
    {
      "cell_type": "code",
      "source": [
        "import matplotlib.pyplot as plt\n",
        "\n",
        "plt.bar(comparison_df[\"Model\"], comparison_df[\"Mean Test Accuracy\"], color=[\"skyblue\", \"orange\"])\n",
        "plt.ylim(0.9, 1.0)\n",
        "plt.ylabel(\"Accuracy\")\n",
        "plt.title(\"MLP (Scratch) vs KAN (pykan) on Iris Dataset\")\n",
        "plt.show()\n"
      ],
      "metadata": {
        "id": "cumHS7rcqJyg",
        "outputId": "8b0f815c-91a6-4e37-ffd7-f28af4c465e2",
        "colab": {
          "base_uri": "https://localhost:8080/",
          "height": 452
        }
      },
      "execution_count": 124,
      "outputs": [
        {
          "output_type": "display_data",
          "data": {
            "text/plain": [
              "<Figure size 640x480 with 1 Axes>"
            ],
            "image/png": "[encoded data removed]"
          },
          "metadata": {}
        }
      ]
    },
    {
      "cell_type": "code",
      "source": [],
      "metadata": {
        "id": "YZltHqoRqNJJ"
      },
      "execution_count": 122,
      "outputs": []
    }
  ]
}