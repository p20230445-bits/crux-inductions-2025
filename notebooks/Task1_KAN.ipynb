{
  "nbformat": 4,
  "nbformat_minor": 0,
  "metadata": {
    "colab": {
      "provenance": [],
      "authorship_tag": "ABX9TyNh+kbjL5om+/ccx2ZmyNpB",
      "include_colab_link": true
    },
    "kernelspec": {
      "name": "python3",
      "display_name": "Python 3"
    },
    "language_info": {
      "name": "python"
    }
  },
  "cells": [
    {
      "cell_type": "markdown",
      "metadata": {
        "id": "view-in-github",
        "colab_type": "text"
      },
      "source": [
        "<a href=\"https://colab.research.google.com/github/p20230445-bits/crux-inductions-2025/blob/main/notebooks/Task1_KAN.ipynb\" target=\"_parent\"><img src=\"https://colab.research.google.com/assets/colab-badge.svg\" alt=\"Open In Colab\"/></a>"
      ]
    },
    {
      "cell_type": "code",
      "execution_count": 36,
      "metadata": {
        "id": "UFE-UwOqtShe"
      },
      "outputs": [],
      "source": [
        "import numpy as np\n",
        "import matplotlib.pyplot as plt\n",
        "from sklearn.datasets import load_iris\n",
        "from sklearn.model_selection import train_test_split\n",
        "from sklearn.preprocessing import OneHotEncoder"
      ]
    },
    {
      "cell_type": "code",
      "source": [
        "# Spline Function (piecewise linear)\n",
        "class Spline:\n",
        "    def __init__(self, num_knots=5):\n",
        "        self.num_knots = num_knots\n",
        "        self.knots = np.linspace(0, 1, num_knots)\n",
        "        self.coeffs = np.random.randn(num_knots) * 0.1  # learnable params\n",
        "\n",
        "    def forward(self, x):\n",
        "        # Piecewise linear interpolation\n",
        "        return np.interp(x, self.knots, self.coeffs)\n",
        "\n",
        "    def plot(self):\n",
        "        xs = np.linspace(0, 1, 100)\n",
        "        ys = [self.forward(x) for x in xs]\n",
        "        plt.plot(xs, ys, label=\"Learned Spline\")\n",
        "        plt.scatter(self.knots, self.coeffs, color=\"red\")\n",
        "        plt.legend()\n",
        "        plt.show()"
      ],
      "metadata": {
        "id": "xStFbdBXtbW6"
      },
      "execution_count": 37,
      "outputs": []
    },
    {
      "cell_type": "code",
      "source": [
        "# Simple KAN Layer\n",
        "class KANLayer:\n",
        "    def __init__(self, input_dim, output_dim, num_knots=5):\n",
        "        self.splines = [[Spline(num_knots) for _ in range(input_dim)]\n",
        "                        for _ in range(output_dim)]\n",
        "        self.bias = np.zeros((1, output_dim))\n",
        "\n",
        "    def forward(self, X):\n",
        "        out = []\n",
        "        for j in range(len(self.splines)):  # for each output neuron\n",
        "            val = sum(self.splines[j][i].forward(X[:, i])\n",
        "                      for i in range(len(self.splines[j])))\n",
        "            out.append(val + self.bias[0, j])\n",
        "        return np.vstack(out).T  # shape (batch, output_dim)"
      ],
      "metadata": {
        "id": "7ttvgZc1tkUu"
      },
      "execution_count": 38,
      "outputs": []
    },
    {
      "cell_type": "code",
      "source": [
        "# KAN Model\n",
        "class SimpleKAN:\n",
        "    def __init__(self, input_dim, hidden_dim, output_dim, lr=0.01):\n",
        "        self.hidden = KANLayer(input_dim, hidden_dim)\n",
        "        self.out_W = np.random.randn(hidden_dim, output_dim) * 0.1\n",
        "        self.out_b = np.zeros((1, output_dim))\n",
        "        self.lr = lr\n",
        "\n",
        "    def forward(self, X):\n",
        "        self.z1 = self.hidden.forward(X)\n",
        "        self.a1 = np.maximum(0, self.z1)  # ReLU\n",
        "        logits = np.dot(self.a1, self.out_W) + self.out_b\n",
        "        exp_scores = np.exp(logits - np.max(logits, axis=1, keepdims=True))\n",
        "        self.a2 = exp_scores / np.sum(exp_scores, axis=1, keepdims=True)\n",
        "        return self.a2\n",
        "\n",
        "    def compute_loss(self, y_onehot):\n",
        "        m = y_onehot.shape[0]\n",
        "        log_likelihood = -np.log(self.a2[range(m), np.argmax(y_onehot, axis=1)])\n",
        "        return np.sum(log_likelihood) / m\n",
        "\n",
        "    def train(self, X, y, epochs=100):\n",
        "        # One-hot encode y\n",
        "        enc = OneHotEncoder(sparse_output=False)\n",
        "        y_onehot = enc.fit_transform(y.reshape(-1, 1))\n",
        "        for epoch in range(epochs):\n",
        "            probs = self.forward(X)\n",
        "            loss = self.compute_loss(y_onehot)\n",
        "\n",
        "            # Gradients for output layer\n",
        "            dz2 = probs - y_onehot\n",
        "            dW = np.dot(self.a1.T, dz2) / X.shape[0]\n",
        "            db = np.sum(dz2, axis=0, keepdims=True) / X.shape[0]\n",
        "\n",
        "            # Update output layer weights\n",
        "            self.out_W -= self.lr * dW\n",
        "            self.out_b -= self.lr * db\n",
        "\n",
        "            if epoch % 10 == 0:\n",
        "                print(f\"Epoch {epoch}, Loss: {loss:.4f}\")\n",
        "\n",
        "    def predict(self, X):\n",
        "        probs = self.forward(X)\n",
        "        return np.argmax(probs, axis=1)\n"
      ],
      "metadata": {
        "id": "PyqxFw_fttpm"
      },
      "execution_count": 39,
      "outputs": []
    },
    {
      "cell_type": "code",
      "source": [
        "# Load Iris dataset\n",
        "iris = load_iris()\n",
        "X, y = iris.data, iris.target\n",
        "X = (X - X.min()) / (X.max() - X.min())  # normalize to [0,1]\n",
        "X_train, X_test, y_train, y_test = train_test_split(X, y, test_size=0.2, random_state=42)"
      ],
      "metadata": {
        "id": "Vx0mnVwJt09R"
      },
      "execution_count": 40,
      "outputs": []
    },
    {
      "cell_type": "code",
      "source": [
        "# Train KAN\n",
        "kan = SimpleKAN(input_dim=4, hidden_dim=10, output_dim=3, lr=0.1)\n",
        "kan.train(X_train, y_train, epochs=100)"
      ],
      "metadata": {
        "colab": {
          "base_uri": "https://localhost:8080/"
        },
        "id": "34w9hWq7t77e",
        "outputId": "2572b422-3af7-4e4e-db34-a56c6bf8c58c"
      },
      "execution_count": 41,
      "outputs": [
        {
          "output_type": "stream",
          "name": "stdout",
          "text": [
            "Epoch 0, Loss: 1.1007\n",
            "Epoch 10, Loss: 1.0920\n",
            "Epoch 20, Loss: 1.0838\n",
            "Epoch 30, Loss: 1.0759\n",
            "Epoch 40, Loss: 1.0682\n",
            "Epoch 50, Loss: 1.0607\n",
            "Epoch 60, Loss: 1.0533\n",
            "Epoch 70, Loss: 1.0460\n",
            "Epoch 80, Loss: 1.0388\n",
            "Epoch 90, Loss: 1.0317\n"
          ]
        }
      ]
    },
    {
      "cell_type": "code",
      "source": [
        "# Evaluate\n",
        "preds = kan.predict(X_test)\n",
        "acc = np.mean(preds == y_test)\n",
        "print(f\"Test Accuracy: {acc:.2f}\")"
      ],
      "metadata": {
        "colab": {
          "base_uri": "https://localhost:8080/"
        },
        "id": "D5473-bYt-yL",
        "outputId": "a1937c35-cfff-40db-aa6f-b6e3f44c4e1c"
      },
      "execution_count": 42,
      "outputs": [
        {
          "output_type": "stream",
          "name": "stdout",
          "text": [
            "Test Accuracy: 0.63\n"
          ]
        }
      ]
    },
    {
      "cell_type": "code",
      "source": [
        "# Plot spline of first hidden neuron, first input\n",
        "kan.hidden.splines[0][0].plot()"
      ],
      "metadata": {
        "colab": {
          "base_uri": "https://localhost:8080/",
          "height": 430
        },
        "id": "1OMXPErcuDoK",
        "outputId": "f28e34b2-849a-4b4d-c503-82222668cb39"
      },
      "execution_count": 43,
      "outputs": [
        {
          "output_type": "display_data",
          "data": {
            "text/plain": [
              "<Figure size 640x480 with 1 Axes>"
            ],
            "image/png": "[encoded data removed]"
          },
          "metadata": {}
        }
      ]
    },
    {
      "cell_type": "code",
      "source": [
        "!git clone https://github.com/p20230445-bits/crux-inductions-2025.git\n",
        "%cd crux-inductions-2025"
      ],
      "metadata": {
        "colab": {
          "base_uri": "https://localhost:8080/"
        },
        "id": "RiATqSAEvqcm",
        "outputId": "c467a231-89f8-47f6-ed40-136f6fd6091c"
      },
      "execution_count": 46,
      "outputs": [
        {
          "output_type": "stream",
          "name": "stdout",
          "text": [
            "Cloning into 'crux-inductions-2025'...\n",
            "remote: Enumerating objects: 47, done.\u001b[K\n",
            "remote: Counting objects: 100% (47/47), done.\u001b[K\n",
            "remote: Compressing objects: 100% (26/26), done.\u001b[K\n",
            "remote: Total 47 (delta 9), reused 40 (delta 6), pack-reused 0 (from 0)\u001b[K\n",
            "Receiving objects: 100% (47/47), 8.43 MiB | 16.50 MiB/s, done.\n",
            "Resolving deltas: 100% (9/9), done.\n",
            "/content/crux-inductions-2025\n"
          ]
        }
      ]
    },
    {
      "cell_type": "code",
      "source": [],
      "metadata": {
        "id": "ROfshCxFwUE6"
      },
      "execution_count": null,
      "outputs": []
    }
  ]
}